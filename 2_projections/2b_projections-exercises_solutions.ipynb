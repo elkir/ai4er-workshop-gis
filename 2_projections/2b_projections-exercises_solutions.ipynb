{
 "cells": [
  {
   "cell_type": "code",
   "execution_count": 2,
   "metadata": {},
   "outputs": [],
   "source": [
    "import geopandas as gpd\n",
    "from pyproj import CRS\n",
    "import matplotlib.pyplot as plt\n",
    "\n",
    "from pathlib import Path"
   ]
  },
  {
   "cell_type": "code",
   "execution_count": 3,
   "metadata": {},
   "outputs": [],
   "source": [
    "dir_data = Path(\"..\")/ \"data\"/ \"danum\" \n",
    "fp = dir_data/ \"crowns_vector\" / \"dalponte_2013.json\""
   ]
  },
  {
   "cell_type": "markdown",
   "metadata": {},
   "source": [
    "## What's the problem here? How do you fix it?"
   ]
  },
  {
   "cell_type": "code",
   "execution_count": 4,
   "metadata": {},
   "outputs": [],
   "source": [
    "data = gpd.read_file(fp)"
   ]
  },
  {
   "cell_type": "code",
   "execution_count": 9,
   "metadata": {},
   "outputs": [
    {
     "data": {
      "text/plain": [
       "<Geographic 2D CRS: EPSG:4326>\n",
       "Name: WGS 84\n",
       "Axis Info [ellipsoidal]:\n",
       "- Lat[north]: Geodetic latitude (degree)\n",
       "- Lon[east]: Geodetic longitude (degree)\n",
       "Area of Use:\n",
       "- name: World.\n",
       "- bounds: (-180.0, -90.0, 180.0, 90.0)\n",
       "Datum: World Geodetic System 1984\n",
       "- Ellipsoid: WGS 84\n",
       "- Prime Meridian: Greenwich"
      ]
     },
     "execution_count": 9,
     "metadata": {},
     "output_type": "execute_result"
    }
   ],
   "source": [
    "data.crs"
   ]
  },
  {
   "cell_type": "code",
   "execution_count": 10,
   "metadata": {},
   "outputs": [
    {
     "data": {
      "text/html": [
       "<div>\n",
       "<style scoped>\n",
       "    .dataframe tbody tr th:only-of-type {\n",
       "        vertical-align: middle;\n",
       "    }\n",
       "\n",
       "    .dataframe tbody tr th {\n",
       "        vertical-align: top;\n",
       "    }\n",
       "\n",
       "    .dataframe thead th {\n",
       "        text-align: right;\n",
       "    }\n",
       "</style>\n",
       "<table border=\"1\" class=\"dataframe\">\n",
       "  <thead>\n",
       "    <tr style=\"text-align: right;\">\n",
       "      <th></th>\n",
       "      <th>DN</th>\n",
       "      <th>geometry</th>\n",
       "    </tr>\n",
       "  </thead>\n",
       "  <tbody>\n",
       "    <tr>\n",
       "      <th>0</th>\n",
       "      <td>22</td>\n",
       "      <td>POLYGON ((588123.000 548713.500, 588123.000 54...</td>\n",
       "    </tr>\n",
       "    <tr>\n",
       "      <th>1</th>\n",
       "      <td>18</td>\n",
       "      <td>POLYGON ((588548.000 548713.500, 588548.000 54...</td>\n",
       "    </tr>\n",
       "    <tr>\n",
       "      <th>2</th>\n",
       "      <td>5</td>\n",
       "      <td>POLYGON ((587595.000 548713.500, 587595.000 54...</td>\n",
       "    </tr>\n",
       "    <tr>\n",
       "      <th>3</th>\n",
       "      <td>19</td>\n",
       "      <td>POLYGON ((587205.500 548713.500, 587205.500 54...</td>\n",
       "    </tr>\n",
       "    <tr>\n",
       "      <th>4</th>\n",
       "      <td>13</td>\n",
       "      <td>POLYGON ((588284.500 548713.500, 588284.500 54...</td>\n",
       "    </tr>\n",
       "  </tbody>\n",
       "</table>\n",
       "</div>"
      ],
      "text/plain": [
       "   DN                                           geometry\n",
       "0  22  POLYGON ((588123.000 548713.500, 588123.000 54...\n",
       "1  18  POLYGON ((588548.000 548713.500, 588548.000 54...\n",
       "2   5  POLYGON ((587595.000 548713.500, 587595.000 54...\n",
       "3  19  POLYGON ((587205.500 548713.500, 587205.500 54...\n",
       "4  13  POLYGON ((588284.500 548713.500, 588284.500 54..."
      ]
     },
     "execution_count": 10,
     "metadata": {},
     "output_type": "execute_result"
    }
   ],
   "source": [
    "data.head()"
   ]
  },
  {
   "cell_type": "markdown",
   "metadata": {},
   "source": [
    "Hint: this is the bounding box"
   ]
  },
  {
   "cell_type": "code",
   "execution_count": 21,
   "metadata": {},
   "outputs": [],
   "source": [
    "fp_bounds = dir_data/\"danum_loc\" / \"Danum_50ha_0_0.shp\"\n",
    "data_bounds = gpd.read_file(fp_bounds)\n",
    "bbox = data_bounds.geometry[0]"
   ]
  },
  {
   "cell_type": "markdown",
   "metadata": {},
   "source": [
    "Hint 2: [UTM](https://en.wikipedia.org/wiki/Universal_Transverse_Mercator_coordinate_system)"
   ]
  },
  {
   "cell_type": "markdown",
   "metadata": {},
   "source": [
    "Hint 3: [link to specific part of pyproj documentation](https://pyproj4.github.io/pyproj/stable/examples.html#find-utm-crs-by-latitude-and-longitude)"
   ]
  },
  {
   "cell_type": "code",
   "execution_count": 32,
   "metadata": {},
   "outputs": [
    {
     "name": "stdout",
     "output_type": "stream",
     "text": [
      "(117.79208052796504, 4.959671580931951)\n"
     ]
    },
    {
     "data": {
      "text/plain": [
       "<Projected CRS: EPSG:32650>\n",
       "Name: WGS 84 / UTM zone 50N\n",
       "Axis Info [cartesian]:\n",
       "- E[east]: Easting (metre)\n",
       "- N[north]: Northing (metre)\n",
       "Area of Use:\n",
       "- name: Between 114°E and 120°E, northern hemisphere between equator and 84°N, onshore and offshore. Brunei. China. Hong Kong. Indonesia. Malaysia - East Malaysia - Sarawak. Mongolia. Philippines. Russian Federation. Taiwan.\n",
       "- bounds: (114.0, 0.0, 120.0, 84.0)\n",
       "Coordinate Operation:\n",
       "- name: UTM zone 50N\n",
       "- method: Transverse Mercator\n",
       "Datum: World Geodetic System 1984\n",
       "- Ellipsoid: WGS 84\n",
       "- Prime Meridian: Greenwich"
      ]
     },
     "execution_count": 32,
     "metadata": {},
     "output_type": "execute_result"
    }
   ],
   "source": [
    "# Looking up the CRS based on lat lon\n",
    "from pyproj.aoi import AreaOfInterest\n",
    "from pyproj.database import query_utm_crs_info\n",
    "\n",
    "print(bbox.coords[0])\n",
    "lon = bbox.coords[0][0]\n",
    "lat = bbox.coords[0][1]\n",
    "\n",
    "\n",
    "utm_crs_list = query_utm_crs_info(\n",
    "    datum_name=\"WGS 84\",\n",
    "    area_of_interest=AreaOfInterest(\n",
    "        west_lon_degree=lon,\n",
    "        south_lat_degree=lat,\n",
    "        east_lon_degree=lon,\n",
    "        north_lat_degree=lat,\n",
    "    ),\n",
    ")\n",
    "new_crs = CRS.from_epsg(utm_crs_list[0].code)\n"
   ]
  },
  {
   "cell_type": "code",
   "execution_count": 33,
   "metadata": {},
   "outputs": [],
   "source": [
    "## Or finding the code manually\n",
    "new_crs = CRS(\"EPSG:32650\")"
   ]
  },
  {
   "cell_type": "code",
   "execution_count": 34,
   "metadata": {},
   "outputs": [
    {
     "data": {
      "text/plain": [
       "<Projected CRS: EPSG:32650>\n",
       "Name: WGS 84 / UTM zone 50N\n",
       "Axis Info [cartesian]:\n",
       "- E[east]: Easting (metre)\n",
       "- N[north]: Northing (metre)\n",
       "Area of Use:\n",
       "- name: Between 114°E and 120°E, northern hemisphere between equator and 84°N, onshore and offshore. Brunei. China. Hong Kong. Indonesia. Malaysia - East Malaysia - Sarawak. Mongolia. Philippines. Russian Federation. Taiwan.\n",
       "- bounds: (114.0, 0.0, 120.0, 84.0)\n",
       "Coordinate Operation:\n",
       "- name: UTM zone 50N\n",
       "- method: Transverse Mercator\n",
       "Datum: World Geodetic System 1984\n",
       "- Ellipsoid: WGS 84\n",
       "- Prime Meridian: Greenwich"
      ]
     },
     "execution_count": 34,
     "metadata": {},
     "output_type": "execute_result"
    }
   ],
   "source": [
    "## Correcting the crs in place\n",
    "data_wrong = data.copy()\n",
    "data.crs = new_crs\n",
    "data.crs"
   ]
  },
  {
   "cell_type": "markdown",
   "metadata": {},
   "source": [
    "## Play around with different world projections\n",
    "\n",
    "[Top 10 World Map Projections – The Future Mapping Company](https://futuremaps.com/blogs/news/top-10-world-map-projections)"
   ]
  },
  {
   "cell_type": "markdown",
   "metadata": {},
   "source": [
    "#### Reference\n",
    "\n",
    "- http://geopandas.org/projections.html\n",
    "- https://pyproj4.github.io/pyproj/dev/api/crs.html\n",
    "- https://spatialreference.org/\n",
    "- https://epsg.io/"
   ]
  },
  {
   "cell_type": "code",
   "execution_count": null,
   "metadata": {},
   "outputs": [],
   "source": [
    "# Read in data\n",
    "fp = gpd.datasets.get_path(\"naturalearth_lowres\")\n",
    "world = gpd.read_file(fp)"
   ]
  },
  {
   "cell_type": "code",
   "execution_count": null,
   "metadata": {},
   "outputs": [],
   "source": [
    "# #Template\n",
    "# proj = ...\n",
    "\n",
    "# # Re-project and plot\n",
    "# world.to_crs(proj).plot()\n",
    "\n",
    "# # Remove x and y axis\n",
    "# plt.axis('off')\n",
    "# plt.title(\"Proj\")"
   ]
  }
 ],
 "metadata": {
  "kernelspec": {
   "display_name": "Python 3.8.8 64-bit ('ai4er-workshop-gis': conda)",
   "language": "python",
   "name": "python38864bitai4erworkshopgisconda3382785939a84ea288fcc951f054071c"
  },
  "language_info": {
   "codemirror_mode": {
    "name": "ipython",
    "version": 3
   },
   "file_extension": ".py",
   "mimetype": "text/x-python",
   "name": "python",
   "nbconvert_exporter": "python",
   "pygments_lexer": "ipython3",
   "version": "3.8.8"
  }
 },
 "nbformat": 4,
 "nbformat_minor": 2
}
